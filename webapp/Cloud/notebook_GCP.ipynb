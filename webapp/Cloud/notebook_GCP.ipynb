{
  "nbformat": 4,
  "nbformat_minor": 0,
  "metadata": {
    "colab": {
      "provenance": []
    },
    "kernelspec": {
      "name": "python3",
      "display_name": "Python 3"
    },
    "language_info": {
      "name": "python"
    }
  },
  "cells": [
    {
      "cell_type": "code",
      "execution_count": null,
      "metadata": {
        "id": "KymjTVYQqcK8"
      },
      "outputs": [],
      "source": [
        "import pandas as pd\n",
        "import numpy as np\n",
        "from sklearn.model_selection import train_test_split\n",
        "from sklearn.ensemble import RandomForestClassifier\n",
        "from apiclient.http import MediaIoBaseDownload\n",
        "from googleapiclient.discovery import build\n",
        "import pickle\n",
        "from google.cloud import storage\n",
        "gcs_service = build('storage', 'v1')"
      ]
    },
    {
      "cell_type": "code",
      "source": [
        "#read csv from bucket\n",
        "\n",
        "with open('/tmp/gsutil_download.csv', 'wb') as f:\n",
        "  # Download the file from a given Google Cloud Storage bucket.\n",
        "  request = gcs_service.objects().get_media(bucket='malmem-dataset',\n",
        "                                            object='malmem_dataset.csv')\n",
        "  media = MediaIoBaseDownload(f, request)\n",
        "\n",
        "  done = False\n",
        "  while not done:\n",
        "    _, done = media.next_chunk()\n",
        "\n",
        "df = pd.read_csv('/tmp/gsutil_download.csv')"
      ],
      "metadata": {
        "id": "u5sBSpX5qfo9"
      },
      "execution_count": null,
      "outputs": []
    },
    {
      "cell_type": "code",
      "source": [
        "X = df.copy()"
      ],
      "metadata": {
        "id": "zRwM1-Bwqixj"
      },
      "execution_count": null,
      "outputs": []
    },
    {
      "cell_type": "code",
      "source": [
        "X = X.drop('Category', axis=1)\n",
        "class_map = {'Benign':0, 'Malware':1}\n",
        "X['Class'] = X['Class'].map(class_map)\n",
        "Y = X['Class']\n",
        "X = X.drop('Class', axis=1)\n",
        "X_train, X_test, y_train, y_test = train_test_split(X, Y, test_size=0.3, random_state=1)"
      ],
      "metadata": {
        "id": "DZKCbVylqkdj"
      },
      "execution_count": null,
      "outputs": []
    },
    {
      "cell_type": "code",
      "source": [
        "rf = RandomForestClassifier()\n",
        "rf.fit(X_train, y_train)"
      ],
      "metadata": {
        "id": "C77aB-MmqmYg"
      },
      "execution_count": null,
      "outputs": []
    },
    {
      "cell_type": "code",
      "source": [
        "bucket_name = 'malmem-dataset'\n",
        "blob_name = 'rf_model.pkl'\n",
        "\n",
        "storage_client = storage.Client()\n",
        "bucket = storage_client.bucket(bucket_name)\n",
        "blob = bucket.blob(blob_name)\n",
        "\n",
        "blob.upload_from_string(pickle.dumps(rf))"
      ],
      "metadata": {
        "id": "Ct0yA-DRqny3"
      },
      "execution_count": null,
      "outputs": []
    }
  ]
}